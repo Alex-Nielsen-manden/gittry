{
 "cells": [
  {
   "cell_type": "markdown",
   "id": "534c9145",
   "metadata": {},
   "source": [
    "trying\n"
   ]
  },
  {
   "cell_type": "code",
   "execution_count": null,
   "id": "dbd3e8d9",
   "metadata": {},
   "outputs": [],
   "source": []
  }
 ],
 "metadata": {
  "kernelspec": {
   "display_name": "Python 3 (ipykernel)",
   "language": "python",
   "name": "python3"
  },
  "language_info": {
   "codemirror_mode": {
    "name": "ipython",
    "version": 3
   },
   "file_extension": ".py",
   "mimetype": "text/x-python",
   "name": "python",
   "nbconvert_exporter": "python",
   "pygments_lexer": "ipython3",
   "version": "3.11.5"
  }
 },
 "nbformat": 4,
 "nbformat_minor": 5
}
